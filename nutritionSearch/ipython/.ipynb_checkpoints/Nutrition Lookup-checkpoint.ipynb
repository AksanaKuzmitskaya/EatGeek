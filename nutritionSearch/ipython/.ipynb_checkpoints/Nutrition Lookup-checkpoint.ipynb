{
 "cells": [
  {
   "cell_type": "code",
   "execution_count": 1,
   "metadata": {},
   "outputs": [],
   "source": [
    "import re\n",
    "import numpy as np\n",
    "\n",
    "from sklearn.naive_bayes import MultinomialNB\n",
    "from sklearn.feature_extraction.text import CountVectorizer\n",
    "import pandas as pd\n",
    "from collections import Counter\n",
    "from sklearn.model_selection import train_test_split\n",
    "from sklearn.feature_extraction.text import TfidfTransformer\n",
    "\n",
    "import jenkspy\n",
    "import matplotlib.pyplot as plt\n",
    "plt.style.use('seaborn-poster')\n",
    "%matplotlib inline"
   ]
  },
  {
   "cell_type": "code",
   "execution_count": 8,
   "metadata": {},
   "outputs": [],
   "source": [
    "import nltk\n",
    "from nltk.stem import LancasterStemmer"
   ]
  },
  {
   "cell_type": "code",
   "execution_count": 12,
   "metadata": {},
   "outputs": [],
   "source": [
    "def text_preprocessing(food_name):\n",
    "    # Remove all the special characters\n",
    "    line = re.sub(r'\\W', ' ', food_name)\n",
    "\n",
    "    # remove all single characters\n",
    "    line = re.sub(r'\\s+[a-zA-Z]\\s+', ' ', line)\n",
    "\n",
    "    # Remove single characters from the start\n",
    "    line = re.sub(r'\\^[a-zA-Z]\\s+', ' ', line) \n",
    "\n",
    "    # Substituting multiple spaces with single space\n",
    "    line = re.sub(r'\\s+', ' ', line, flags=re.I)\n",
    "\n",
    "    # Converting to Lowercase\n",
    "    line = line.lower()\n",
    "\n",
    "    # Lemmatization\n",
    "    line = line.split()\n",
    "    \n",
    "    lancaster=LancasterStemmer()\n",
    "    line = [lancaster.stem(word) for word in line]\n",
    "    line = ' '.join(line)\n",
    "\n",
    "    return line"
   ]
  },
  {
   "cell_type": "code",
   "execution_count": 13,
   "metadata": {},
   "outputs": [],
   "source": [
    "menu_sentence = \"CALIFORNIA CHOPPED KALE. AVOCADO. RED PEPPER. CUCUMBER. PISTACHIO. WHITE BALSAMIC. GF\""
   ]
  },
  {
   "cell_type": "code",
   "execution_count": 14,
   "metadata": {},
   "outputs": [
    {
     "data": {
      "text/plain": [
       "'californ chop kal avocado red pep cucumb pistachio whit balsam gf'"
      ]
     },
     "execution_count": 14,
     "metadata": {},
     "output_type": "execute_result"
    }
   ],
   "source": [
    "text_preprocessing(menu_sentence)"
   ]
  },
  {
   "cell_type": "code",
   "execution_count": 15,
   "metadata": {},
   "outputs": [],
   "source": [
    "df = pd.read_excel(\"data/supertrackerfooddatabase.xlsx\", sheet_name=\"Nutrients\")"
   ]
  },
  {
   "cell_type": "code",
   "execution_count": 16,
   "metadata": {},
   "outputs": [],
   "source": [
    "del df[\"Action\"]"
   ]
  },
  {
   "cell_type": "code",
   "execution_count": 17,
   "metadata": {},
   "outputs": [
    {
     "data": {
      "text/plain": [
       "Index(['Food_Item_ID', 'foodcode', 'modcode', 'foodname', '_203 Protein (g)',\n",
       "       '_204 Total Fat (g)', '_205 Carbohydrate (g)', '_208 Energy (kcal)',\n",
       "       '_221 Alcohol (g)', '_255 Water (g)', '_262 Caffeine (mg)',\n",
       "       '_263 Theobromine (mg)', '_269 Sugars, total (g)',\n",
       "       '_291 Fiber, total dietary (g)', '_301 Calcium (mg)', '_303 Iron (mg)',\n",
       "       '_304 Magnesium (mg)', '_305 Phosphorus (mg)', '_306 Potassium (mg)',\n",
       "       '_307 Sodium (mg)', '_309 Zinc (mg)', '_312 Copper (mg)',\n",
       "       '_317 Selenium (mcg)', '_319 Retinol (mcg)',\n",
       "       '_320 Vitamin A, RAE (mcg_RAE)', '_321 Carotene, beta (mcg)',\n",
       "       '_322 Carotene, alpha (mcg)', '_323 Vitamin E (alpha-tocopherol)(mg)',\n",
       "       '_328 Vitamin D (mcg)', '_334 Cryptoxanthin, beta (mcg)',\n",
       "       '_337 Lycopene (mcg)', '_338 Lutein + zeaxanthin (mcg)',\n",
       "       '_401 Vitamin C (mg)', '_404 Thiamin (mg)', '_405 Riboflavin (mg)',\n",
       "       '_406 Niacin (mg)', '_415 Vitamin B-6 (mg)', '_417 Folate, total (mcg)',\n",
       "       '_418 Vitamin B-12 (mcg)', '_421 Choline, total (mg)',\n",
       "       '_430 Vitamin K (phylloquinone)(mcg)', '_431 Folic acid (mcg)',\n",
       "       '_432 Folate, food (mcg)', '_435 Folate, DFE (mcg_DFE)',\n",
       "       '_573 Vitamin E, added (mg)', '_578 Vitamin B-12, added (mcg)',\n",
       "       '_601 Cholesterol (mg)', '_606 Fatty acids, total saturated (g)',\n",
       "       '_607 4:0 (g)', '_608 6:0 (g)', '_609 8:0 (g)', '_610 10:0 (g)',\n",
       "       '_611 12:0 (g)', '_612 14:0 (g)', '_613 16:0 (g)', '_614 18:0 (g)',\n",
       "       '_617 18:1 (g)', '_618 18:2 (g)', '_619 18:3 (g)', '_620 20:4 (g)',\n",
       "       '_621 22:6 n-3 (g)', '_626 16:1 (g)', '_627 18:4 (g)', '_628 20:1 (g)',\n",
       "       '_629 20:5 n-3 (g)', '_630 22:1 (g)', '_631 22:5 n-3 (g)',\n",
       "       '_645 Fatty acids, total monounsaturated (g)',\n",
       "       '_646 Fatty acids, total polyunsaturated (g)', 'Calc_SoFAS',\n",
       "       'Calc_Red_Org_Veg', 'Calc_Starchy_Veg', 'Calc_Meat_And_Beans',\n",
       "       'Calc_Meat_Poult_Egg', 'Calc_Seafood', 'Calc_Nuts_Seeds_Soy',\n",
       "       'Calc_Oils', 'Calc_Total_Fat_Prct', 'Calc_Sat_Fat_Prct',\n",
       "       'Calc_MonoUnsat_Fat_Prct', 'Calc_PolyUnsat_Fat_Prct',\n",
       "       'Calc_Linoleic_Acid_Prct', 'Calc_Alpha_Linoleic_Acid_Prct',\n",
       "       'Calc_Protein_Prct', 'Calc_Carb_Prct', 'Calc_Copper',\n",
       "       'Calc_Milk_Yogurt', 'Calc_Whole_Fruit', 'Calc_Alcohol',\n",
       "       'Calc_Added_Sugars', 'Calc_Solid_Fats', 'Calc_Omega3_DHA',\n",
       "       'Calc_Omega3_EPA', 'Calc_V_TOTAL', 'Calc_Protein_Foods',\n",
       "       'Calc_Protein_Nuts_Seeds_Soy', 'Calc_Added_Sugars_Grams'],\n",
       "      dtype='object')"
      ]
     },
     "execution_count": 17,
     "metadata": {},
     "output_type": "execute_result"
    }
   ],
   "source": [
    "df.columns"
   ]
  },
  {
   "cell_type": "code",
   "execution_count": 34,
   "metadata": {},
   "outputs": [],
   "source": [
    "feature = '_269 Sugars, total (g)'"
   ]
  },
  {
   "cell_type": "code",
   "execution_count": 18,
   "metadata": {},
   "outputs": [
    {
     "data": {
      "text/plain": [
       "count    6454.00000\n",
       "mean        8.69709\n",
       "std        14.27590\n",
       "min         0.00000\n",
       "25%         0.87000\n",
       "50%         2.58990\n",
       "75%         9.53980\n",
       "max        99.79980\n",
       "Name: _269 Sugars, total (g), dtype: float64"
      ]
     },
     "execution_count": 18,
     "metadata": {},
     "output_type": "execute_result"
    }
   ],
   "source": [
    "df.describe()['_269 Sugars, total (g)']"
   ]
  },
  {
   "cell_type": "code",
   "execution_count": 20,
   "metadata": {},
   "outputs": [
    {
     "data": {
      "text/plain": [
       "count    6453.000000\n",
       "mean       22.500190\n",
       "std        23.617473\n",
       "min         0.000000\n",
       "25%         5.269800\n",
       "50%        13.880000\n",
       "75%        29.766900\n",
       "max       100.000000\n",
       "Name: _205 Carbohydrate (g), dtype: float64"
      ]
     },
     "execution_count": 20,
     "metadata": {},
     "output_type": "execute_result"
    }
   ],
   "source": [
    "df.describe()['_205 Carbohydrate (g)']"
   ]
  },
  {
   "cell_type": "code",
   "execution_count": 25,
   "metadata": {},
   "outputs": [
    {
     "name": "stderr",
     "output_type": "stream",
     "text": [
      "/usr/local/lib/python3.6/site-packages/ipykernel_launcher.py:2: SettingWithCopyWarning: \n",
      "A value is trying to be set on a copy of a slice from a DataFrame.\n",
      "Try using .loc[row_indexer,col_indexer] = value instead\n",
      "\n",
      "See the caveats in the documentation: http://pandas.pydata.org/pandas-docs/stable/indexing.html#indexing-view-versus-copy\n",
      "  \n"
     ]
    }
   ],
   "source": [
    "nutrients_df = df.dropna()\n",
    "nutrients_df['foodname'] = nutrients_df.apply(lambda row: text_preprocessing(row['foodname']), axis=1)"
   ]
  },
  {
   "cell_type": "code",
   "execution_count": 26,
   "metadata": {},
   "outputs": [
    {
     "data": {
      "text/plain": [
       "0                                              milk whol\n",
       "1                                      milk whol low sod\n",
       "2                                    milk whol calc fort\n",
       "3                                       1 milk calc fort\n",
       "4                                 fat fre milk calc fort\n",
       "5                                                 2 milk\n",
       "6                                       1 acidophil milk\n",
       "7                                       2 acidophil milk\n",
       "8                                                 1 milk\n",
       "9                                           fat fre milk\n",
       "10                             1 milk lactos fre lactaid\n",
       "11                   1 milk lactos fre lactaid calc fort\n",
       "12                               fat fre milk lactos fre\n",
       "13                     fat fre milk lactos fre calc fort\n",
       "14                             2 milk lactos fre lactaid\n",
       "15                                lactaid milk whol milk\n",
       "16                               buttermilk fat fre skim\n",
       "17                                          1 buttermilk\n",
       "18                                          2 buttermilk\n",
       "19                                       buttermilk whol\n",
       "20                                             goat milk\n",
       "21                             milk dry whol reconstitut\n",
       "22                          milk dry low fat reconstitut\n",
       "23                          milk dry fat fre reconstitut\n",
       "24                            buttermilk dry reconstitut\n",
       "25                                        evap milk whol\n",
       "26                                 evap milk reduc fat 2\n",
       "27                                evap milk fat fre skim\n",
       "28                                          condens milk\n",
       "29                                      milk soy soy bev\n",
       "                              ...                       \n",
       "6424              herb nutrit shak mix high protein powd\n",
       "6425                                   isop protein powd\n",
       "6426                     kellog spec k20 protein wat mix\n",
       "6427                                musc milk regul powd\n",
       "6428                                musc milk light powd\n",
       "6429                             slim fast shak mix powd\n",
       "6430                     slim fast shak mix sug fre powd\n",
       "6431                slim fast shak mix high protein powd\n",
       "6432                                no fear energy drink\n",
       "6433                     no fear motherload energy drink\n",
       "6434                                    nos energy drink\n",
       "6435                         sob energ energy juic drink\n",
       "6436                                        energy drink\n",
       "6437                          monst lo carb energy drink\n",
       "6438                        no fear energy drink sug fre\n",
       "6439                            nos energy drink sug fre\n",
       "6440    oc spray cran energy cranberry energy juic drink\n",
       "6441                                     xs energy drink\n",
       "6442                            xs gold plu energy drink\n",
       "6443               fuz slend fort low cal fruit juic bev\n",
       "6444                                monavy aca blend bev\n",
       "6445                                            pep whit\n",
       "6446                                           pep black\n",
       "6447                                      poultry season\n",
       "6448                                         taco season\n",
       "6449                                      vanill extract\n",
       "6450                                       cream of tart\n",
       "6451                                             bak sod\n",
       "6452                                            bak powd\n",
       "6453                                           salt tabl\n",
       "Name: foodname, Length: 6452, dtype: object"
      ]
     },
     "execution_count": 26,
     "metadata": {},
     "output_type": "execute_result"
    }
   ],
   "source": [
    "nutrients_df['foodname']"
   ]
  },
  {
   "cell_type": "code",
   "execution_count": 45,
   "metadata": {},
   "outputs": [
    {
     "name": "stdout",
     "output_type": "stream",
     "text": [
      "Accuracy: 79.39%\n"
     ]
    }
   ],
   "source": [
    "foodname_list = nutrients_df['foodname'].tolist()\n",
    "feature_list = pd.cut(nutrients_df[feature], breaks, labels=breaks[1:], right=True, include_lowest=True)\n",
    "buckets = {i: idx for idx, i in enumerate(breaks)}\n",
    "feature_list = [buckets[i] for i in feature_list]\n",
    "feature_list = np.array(feature_list)\n",
    "\n",
    "count_vect = CountVectorizer()\n",
    "x_train_counts = count_vect.fit_transform(foodname_list)\n",
    "\n",
    "tfidf_transformer = TfidfTransformer()\n",
    "x_train_tfidf = tfidf_transformer.fit_transform(x_train_counts)\n",
    "\n",
    "train_x, test_x, train_y, test_y = train_test_split(x_train_tfidf, feature_list, test_size=0.3)\n",
    "\n",
    "clf = MultinomialNB().fit(train_x, train_y)\n",
    "y_score = clf.predict(test_x)\n",
    "\n",
    "n_right = 0\n",
    "for i in range(len(y_score)):\n",
    "    if y_score[i] == test_y[i]:\n",
    "        n_right += 1\n",
    "\n",
    "print(\"Accuracy: %.2f%%\" % ((n_right/float(len(test_y)) * 100)))"
   ]
  },
  {
   "cell_type": "code",
   "execution_count": 321,
   "metadata": {},
   "outputs": [
    {
     "data": {
      "text/plain": [
       "array([1, 2, 1])"
      ]
     },
     "execution_count": 321,
     "metadata": {},
     "output_type": "execute_result"
    }
   ],
   "source": [
    "to_test = [\"Bacon Ranch Grilled Chicken Salad Artisan grilled chicken\", \"Real fruit for a real treat. Fruit 'N Yogurt Parfait Creamy Fruit ‘N Yogurt Parfait with low-fat vanilla yogurt, layers of plump blueberries and sweet strawberries, and a crunchy granola topping\",\n",
    "          \"Coca-Cola\"]\n",
    "x_train_counts = count_vect.transform(to_test)\n",
    "\n",
    "x_train_tfidf = tfidf_transformer.transform(x_train_counts)\n",
    "y_score = clf.predict(x_train_tfidf)\n",
    "y_score"
   ]
  },
  {
   "cell_type": "code",
   "execution_count": 37,
   "metadata": {},
   "outputs": [
    {
     "data": {
      "image/png": "[encoded data removed]",
      "text/plain": [
       "<Figure size 720x576 with 1 Axes>"
      ]
     },
     "metadata": {},
     "output_type": "display_data"
    }
   ],
   "source": [
    "def get_breaks_jenks(array, nb_class=5):\n",
    "    breaks = jenkspy.jenks_breaks(array, nb_class)\n",
    "    return breaks\n",
    "\n",
    "breaks = get_breaks_jenks(nutrients_df[feature])\n",
    "plt.figure(figsize = (10,8))\n",
    "hist = plt.hist(nutrients_df[feature], bins='auto', align='left', color='g')\n",
    "for b in breaks:\n",
    "    plt.vlines(b, ymin=0, ymax = max(hist[0]))"
   ]
  },
  {
   "cell_type": "code",
   "execution_count": 318,
   "metadata": {},
   "outputs": [
    {
     "data": {
      "text/plain": [
       "[0.0, 7.0899, 19.57, 35.59, 58.0499, 99.7998]"
      ]
     },
     "execution_count": 318,
     "metadata": {},
     "output_type": "execute_result"
    }
   ],
   "source": [
    "breaks"
   ]
  },
  {
   "cell_type": "code",
   "execution_count": 159,
   "metadata": {},
   "outputs": [],
   "source": [
    "labels = ['0.0 - 7.0899',\n",
    " '7.0899 - 19.57',\n",
    " '19.57 - 35.59',\n",
    " '35.59 - 44.59',\n",
    " '44.59 - 99.7998']"
   ]
  },
  {
   "cell_type": "code",
   "execution_count": 186,
   "metadata": {},
   "outputs": [],
   "source": [
    "def get_breaks(data, classes):\n",
    "    sum_vals = sum(data)\n",
    "    elements_per_interval = int(len(data)/classes)\n",
    "    data = sorted(data)\n",
    "    breaks = []\n",
    "    for i, val in enumerate(data):\n",
    "        if (i + 1) % elements_per_interval == 0:\n",
    "            breaks.append(val)\n",
    "    return breaks"
   ]
  },
  {
   "cell_type": "code",
   "execution_count": 187,
   "metadata": {},
   "outputs": [],
   "source": [
    "breaks = get_breaks(data, 5)"
   ]
  },
  {
   "cell_type": "code",
   "execution_count": 188,
   "metadata": {},
   "outputs": [
    {
     "data": {
      "image/png": "[encoded data removed]",
      "text/plain": [
       "<Figure size 720x576 with 1 Axes>"
      ]
     },
     "metadata": {},
     "output_type": "display_data"
    }
   ],
   "source": [
    "plt.figure(figsize = (10,8))\n",
    "hist = plt.hist(data, bins='auto', align='left', color='g')\n",
    "for b in breaks:\n",
    "    plt.vlines(b, ymin=0, ymax = max(hist[0]))"
   ]
  },
  {
   "cell_type": "code",
   "execution_count": null,
   "metadata": {},
   "outputs": [],
   "source": []
  }
 ],
 "metadata": {
  "kernelspec": {
   "display_name": "Python 3",
   "language": "python",
   "name": "python3"
  },
  "language_info": {
   "codemirror_mode": {
    "name": "ipython",
    "version": 3
   },
   "file_extension": ".py",
   "mimetype": "text/x-python",
   "name": "python",
   "nbconvert_exporter": "python",
   "pygments_lexer": "ipython3",
   "version": "3.6.5"
  }
 },
 "nbformat": 4,
 "nbformat_minor": 2
}
